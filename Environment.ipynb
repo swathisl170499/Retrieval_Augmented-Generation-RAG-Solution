{
  "cells": [
    {
      "cell_type": "markdown",
      "metadata": {
        "id": "view-in-github",
        "colab_type": "text"
      },
      "source": [
        "<a href=\"https://colab.research.google.com/github/swathisl170499/Retrieval_Augmented-Generation-RAG-Solution/blob/main/Environment.ipynb\" target=\"_parent\"><img src=\"https://colab.research.google.com/assets/colab-badge.svg\" alt=\"Open In Colab\"/></a>"
      ]
    },
    {
      "cell_type": "code",
      "execution_count": 1,
      "metadata": {
        "colab": {
          "base_uri": "https://localhost:8080/"
        },
        "id": "kfsNi5x-Yj3f",
        "outputId": "f8f1e15c-f30a-4cba-a8c5-c66c124d8ae2"
      },
      "outputs": [
        {
          "output_type": "stream",
          "name": "stdout",
          "text": [
            "Downloading dataset...\n"
          ]
        },
        {
          "output_type": "stream",
          "name": "stderr",
          "text": [
            "88121KB [00:01, 59978.28KB/s]\n"
          ]
        },
        {
          "output_type": "stream",
          "name": "stdout",
          "text": [
            "Extracting dataset...\n",
            "Dataset downloaded and extracted.\n",
            "Processing complete. Loaded 18 documents.\n"
          ]
        }
      ],
      "source": [
        "import os\n",
        "import requests\n",
        "import zipfile\n",
        "from tqdm import tqdm\n",
        "from pathlib import Path\n",
        "\n",
        "# Directory to store downloaded and extracted data\n",
        "DATA_DIR = Path(\"./mimic_textbooks\")\n",
        "\n",
        "# Step 1: Download and extract the dataset zip file\n",
        "def download_and_extract_zip(url, extract_to=DATA_DIR):\n",
        "    # Ensure the directory exists\n",
        "    extract_to.mkdir(parents=True, exist_ok=True)\n",
        "\n",
        "    # Download the zip file\n",
        "    zip_path = extract_to / \"textbooks.zip\"\n",
        "    print(\"Downloading dataset...\")\n",
        "    response = requests.get(url, stream=True)\n",
        "    with open(zip_path, \"wb\") as file:\n",
        "        for chunk in tqdm(response.iter_content(chunk_size=1024), unit='KB'):\n",
        "            if chunk:\n",
        "                file.write(chunk)\n",
        "\n",
        "    # Extract the zip file\n",
        "    print(\"Extracting dataset...\")\n",
        "    with zipfile.ZipFile(zip_path, \"r\") as zip_ref:\n",
        "        zip_ref.extractall(extract_to)\n",
        "    print(\"Dataset downloaded and extracted.\")\n",
        "\n",
        "# Step 2: Load and process text files\n",
        "def load_text_files(directory):\n",
        "    text_data = []\n",
        "    file_paths = []\n",
        "\n",
        "    # Use pathlib.Path to dynamically list all .txt files in directory\n",
        "    for filepath in Path(directory).rglob(\"*.txt\"):\n",
        "        with open(filepath, \"r\", encoding=\"utf-8\") as file:\n",
        "            text = file.read()\n",
        "            text_data.append(text)\n",
        "            file_paths.append(filepath)\n",
        "\n",
        "    return text_data, file_paths\n",
        "\n",
        "# Execute the download, extraction, and loading setup\n",
        "def setup_environment():\n",
        "    # Zip file URL\n",
        "    dataset_url = \"https://www.dropbox.com/scl/fi/54p9kkx5n93bffyx08eba/textbooks.zip?rlkey=2y2c5x8y0uncnddichn9cmd7n&st=m290nmkk&dl=1\"\n",
        "\n",
        "    # Step 1: Download and extract data files\n",
        "    download_and_extract_zip(dataset_url)\n",
        "\n",
        "    # Step 2: Load text files from the extracted dataset\n",
        "    text_files_directory = DATA_DIR / \"textbooks/en\"\n",
        "    texts, paths = load_text_files(text_files_directory)\n",
        "\n",
        "    print(\"Processing complete. Loaded {} documents.\".format(len(paths)))\n",
        "    return texts, paths\n",
        "\n",
        "# Run the setup\n",
        "texts, document_paths = setup_environment()\n"
      ]
    },
    {
      "cell_type": "code",
      "execution_count": 2,
      "metadata": {
        "colab": {
          "base_uri": "https://localhost:8080/"
        },
        "id": "BuR4mEnOYmZU",
        "outputId": "143e5a90-652e-4bc0-ee2d-024d01d97acf"
      },
      "outputs": [
        {
          "output_type": "execute_result",
          "data": {
            "text/plain": [
              "[PosixPath('mimic_textbooks/textbooks/en/Obstentrics_Williams.txt'),\n",
              " PosixPath('mimic_textbooks/textbooks/en/Cell_Biology_Alberts.txt'),\n",
              " PosixPath('mimic_textbooks/textbooks/en/InternalMed_Harrison.txt'),\n",
              " PosixPath('mimic_textbooks/textbooks/en/Histology_Ross.txt'),\n",
              " PosixPath('mimic_textbooks/textbooks/en/Pediatrics_Nelson.txt'),\n",
              " PosixPath('mimic_textbooks/textbooks/en/Pathoma_Husain.txt'),\n",
              " PosixPath('mimic_textbooks/textbooks/en/Biochemistry_Lippincott.txt'),\n",
              " PosixPath('mimic_textbooks/textbooks/en/Neurology_Adams.txt'),\n",
              " PosixPath('mimic_textbooks/textbooks/en/Pharmacology_Katzung.txt'),\n",
              " PosixPath('mimic_textbooks/textbooks/en/Pathology_Robbins.txt'),\n",
              " PosixPath('mimic_textbooks/textbooks/en/Physiology_Levy.txt'),\n",
              " PosixPath('mimic_textbooks/textbooks/en/Immunology_Janeway.txt'),\n",
              " PosixPath('mimic_textbooks/textbooks/en/Psichiatry_DSM-5.txt'),\n",
              " PosixPath('mimic_textbooks/textbooks/en/Gynecology_Novak.txt'),\n",
              " PosixPath('mimic_textbooks/textbooks/en/First_Aid_Step1.txt'),\n",
              " PosixPath('mimic_textbooks/textbooks/en/First_Aid_Step2.txt'),\n",
              " PosixPath('mimic_textbooks/textbooks/en/Surgery_Schwartz.txt'),\n",
              " PosixPath('mimic_textbooks/textbooks/en/Anatomy_Gray.txt')]"
            ]
          },
          "metadata": {},
          "execution_count": 2
        }
      ],
      "source": [
        "document_paths"
      ]
    },
    {
      "cell_type": "code",
      "execution_count": null,
      "metadata": {
        "id": "7CBvSDmiZwIT"
      },
      "outputs": [],
      "source": []
    }
  ],
  "metadata": {
    "colab": {
      "provenance": [],
      "include_colab_link": true
    },
    "kernelspec": {
      "display_name": "Python 3",
      "name": "python3"
    },
    "language_info": {
      "name": "python"
    }
  },
  "nbformat": 4,
  "nbformat_minor": 0
}